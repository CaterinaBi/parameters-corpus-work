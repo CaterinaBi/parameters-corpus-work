{
 "cells": [
  {
   "cell_type": "markdown",
   "metadata": {},
   "source": [
    "In this file, I'll write some code to extract all instances of in situ questions from Sheet 1 of the `all_rows_classified.xls` file. My collegue Lena Baunaz will then classify them manually. "
   ]
  },
  {
   "cell_type": "code",
   "execution_count": 1,
   "metadata": {},
   "outputs": [],
   "source": [
    "# imports\n",
    "\n",
    "import pandas as pd\n",
    "import xlrd\n",
    "from openpyxl import Workbook"
   ]
  },
  {
   "cell_type": "code",
   "execution_count": 2,
   "metadata": {},
   "outputs": [
    {
     "name": "stdout",
     "output_type": "stream",
     "text": [
      "['Sheet1']\n"
     ]
    }
   ],
   "source": [
    "# reads in the spreadsheet data\n",
    "\n",
    "workbook = xlrd.open_workbook('data_1800_preclassified.xls')\n",
    "data = pd.ExcelFile(workbook)\n",
    "\n",
    " # returns the all the sheet names within the excel file\n",
    "print(data.sheet_names)"
   ]
  },
  {
   "cell_type": "code",
   "execution_count": 3,
   "metadata": {},
   "outputs": [
    {
     "name": "stdout",
     "output_type": "stream",
     "text": [
      "Total rows: 6558\n",
      "Total columns: 10\n"
     ]
    }
   ],
   "source": [
    "sheet = workbook.sheet_by_name('Sheet1')\n",
    "\n",
    "row_count = sheet.nrows\n",
    "col_count = sheet.ncols\n",
    "\n",
    "# prints metrics\n",
    "print(f'Total rows: {row_count}\\nTotal columns: {col_count}')"
   ]
  },
  {
   "cell_type": "code",
   "execution_count": 4,
   "metadata": {},
   "outputs": [
    {
     "name": "stdout",
     "output_type": "stream",
     "text": [
      "We extracted 4067 rows of wh-questions.\n",
      "The selected rows are stored in a list of lists.\n"
     ]
    }
   ],
   "source": [
    "# extracts all wh-questions\n",
    "\n",
    "# initialises the list that will contain all selected rows\n",
    "selected_data = [] # wh-questions\n",
    "\n",
    "# iterates through the spreadsheet to extract the data we need\n",
    "for rx in range(sheet.nrows): # rx is an int, row is a list \n",
    "    row = sheet.row(rx)\n",
    "\n",
    "    classification = row[7] # index 2 is where text of interest is stored, returns a cell\n",
    "    text_string = classification.value # converts cell into str\n",
    "\n",
    "    # initialises list that will contain our data\n",
    "    # one list is created during each iteration\n",
    "    data_list = []\n",
    "\n",
    "    # creates list that stores selected rows\n",
    "    if text_string != '---':\n",
    "        data_list.append(row[0].value)\n",
    "        data_list.append(row[1].value)\n",
    "        data_list.append(row[2].value)\n",
    "        data_list.append(row[3].value)\n",
    "        data_list.append(row[4].value)\n",
    "        data_list.append(row[5].value)\n",
    "        data_list.append(row[6].value)\n",
    "        data_list.append(row[7].value)\n",
    "        data_list.append(row[8].value)\n",
    "        data_list.append(row[9].value)\n",
    "\n",
    "        selected_data.append(data_list)\n",
    "    \n",
    "# prints extracted rows\n",
    "print(f'We extracted {len(selected_data)} rows of wh-questions.')\n",
    "print(f'The selected rows are stored in a list of lists.')"
   ]
  },
  {
   "cell_type": "code",
   "execution_count": 6,
   "metadata": {},
   "outputs": [
    {
     "name": "stdout",
     "output_type": "stream",
     "text": [
      "Dictionary converted into excel...\n"
     ]
    }
   ],
   "source": [
    "# creates spreadsheet using each nested list as a row\n",
    "\n",
    "df = pd.DataFrame(data=selected_data) # only adds non-clefts to the new file\n",
    "\n",
    "# converts into excel\n",
    "df.to_excel(\"data_1800_classified.xlsx\", index=False)\n",
    "\n",
    "print(\"Dictionary converted into excel...\")"
   ]
  }
 ],
 "metadata": {
  "interpreter": {
   "hash": "e166b18db0aadbab4322c18013f324f24dabe01ad5a5651d6f38a0e095ae60e7"
  },
  "kernelspec": {
   "display_name": "Python 3.10.6 ('web-scraping')",
   "language": "python",
   "name": "python3"
  },
  "language_info": {
   "codemirror_mode": {
    "name": "ipython",
    "version": 3
   },
   "file_extension": ".py",
   "mimetype": "text/x-python",
   "name": "python",
   "nbconvert_exporter": "python",
   "pygments_lexer": "ipython3",
   "version": "3.10.6"
  },
  "orig_nbformat": 4
 },
 "nbformat": 4,
 "nbformat_minor": 2
}
