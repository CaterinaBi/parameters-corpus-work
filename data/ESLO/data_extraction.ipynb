{
 "cells": [
  {
   "cell_type": "markdown",
   "metadata": {},
   "source": [
    "In this file, I'll write some code to extract all instances of in situ questions from Sheet 1 of the `all_rows_classified.xls` file. My collegue Lena Baunaz will then classify them manually. "
   ]
  },
  {
   "cell_type": "code",
   "execution_count": 11,
   "metadata": {},
   "outputs": [],
   "source": [
    "# imports\n",
    "\n",
    "import pandas as pd\n",
    "import xlrd\n",
    "from openpyxl import Workbook"
   ]
  },
  {
   "cell_type": "code",
   "execution_count": 12,
   "metadata": {},
   "outputs": [
    {
     "name": "stdout",
     "output_type": "stream",
     "text": [
      "['Sheet1', 'Sheet2']\n",
      "['Sheet1', 'Sheet2']\n"
     ]
    }
   ],
   "source": [
    "# reads in the spreadsheet data\n",
    "\n",
    "# workbook1 = xlrd.open_workbook('comment_all_rows_classified.xls')\n",
    "# data1 = pd.ExcelFile(workbook1)\n",
    "\n",
    "workbook2 = xlrd.open_workbook('ESLO1_quoi_all_rows_classified.xls')\n",
    "data2 = pd.ExcelFile(workbook2)\n",
    "\n",
    "workbook3 = xlrd.open_workbook('ESLO2_quoi_all_rows_classified.xls')\n",
    "data3 = pd.ExcelFile(workbook3)\n",
    "\n",
    "# workbook4 = xlrd.open_workbook('qui_all_rows_classified.xls')\n",
    "# data4 = pd.ExcelFile(workbook4)\n",
    "\n",
    "# returns the all the sheet names within the excel file\n",
    "# print(data1.sheet_names)\n",
    "print(data2.sheet_names)\n",
    "print(data3.sheet_names)\n",
    "# print(data4.sheet_names)"
   ]
  },
  {
   "cell_type": "code",
   "execution_count": 13,
   "metadata": {},
   "outputs": [
    {
     "name": "stdout",
     "output_type": "stream",
     "text": [
      "Total rows 2: 901\n",
      "Total columns 1: 13\n",
      "Total rows 3: 1081\n",
      "Total columns 1: 13\n"
     ]
    }
   ],
   "source": [
    "# sheet1 = workbook1.sheet_by_name('Sheet1')\n",
    "sheet2 = workbook2.sheet_by_name('Sheet1')\n",
    "sheet3 = workbook3.sheet_by_name('Sheet1')\n",
    "# sheet4 = workbook4.sheet_by_name('Sheet1')\n",
    "\n",
    "# row_count1 = sheet1.nrows\n",
    "# col_count1 = sheet1.ncols\n",
    "\n",
    "row_count2 = sheet2.nrows\n",
    "col_count2 = sheet2.ncols\n",
    "\n",
    "row_count3 = sheet3.nrows\n",
    "col_count3 = sheet3.ncols\n",
    "\n",
    "# row_count4 = sheet4.nrows\n",
    "# col_count4 = sheet4.ncols\n",
    "\n",
    "# prints metrics\n",
    "# print(f'Total rows 1: {row_count1}\\nTotal columns 1: {col_count1}')\n",
    "print(f'Total rows 2: {row_count2}\\nTotal columns 1: {col_count2}')\n",
    "print(f'Total rows 3: {row_count3}\\nTotal columns 1: {col_count3}')\n",
    "# print(f'Total rows 4: {row_count4}\\nTotal columns 1: {col_count4}')"
   ]
  },
  {
   "cell_type": "code",
   "execution_count": 5,
   "metadata": {},
   "outputs": [
    {
     "name": "stdout",
     "output_type": "stream",
     "text": [
      "We extracted 1399 rows of questions.\n",
      "The selected rows are stored in a list of lists.\n",
      "Dictionary converted into excel...\n"
     ]
    }
   ],
   "source": [
    "# extracts the data from first file\n",
    "\n",
    "# initialises the list that will contain all selected rows\n",
    "selected_data1 = [] # everything that's not a fragment nor an interjection\n",
    "\n",
    "# iterates through the spreadsheet to extract the data we need\n",
    "for rx in range(sheet1.nrows): # rx is an int, row is a list \n",
    "    row = sheet1.row(rx)\n",
    "\n",
    "    classification = row[4] # index 2 is where text of interest is stored, returns a cell\n",
    "    text_string = classification.value # converts cell into str\n",
    "\n",
    "    # initialises list that will contain our data\n",
    "    # one list is created during each iteration\n",
    "    data_list1 = []\n",
    "\n",
    "    # creates list that stores selected rows\n",
    "    if text_string != 'fragment' and text_string != 'interjection':\n",
    "        data_list1.append(row[0].value)\n",
    "        data_list1.append(row[1].value)\n",
    "        data_list1.append(row[2].value)\n",
    "        data_list1.append(row[3].value)\n",
    "        data_list1.append(row[4].value)\n",
    "        data_list1.append(row[5].value)\n",
    "        data_list1.append(row[6].value)\n",
    "        data_list1.append(row[7].value)\n",
    "        data_list1.append(row[8].value)\n",
    "        data_list1.append(row[9].value)\n",
    "\n",
    "        selected_data1.append(data_list1)\n",
    "    \n",
    "# prints extracted rows\n",
    "print(f'We extracted {len(selected_data1)} rows of questions.')\n",
    "print(f'The selected rows are stored in a list of lists.')\n",
    "\n",
    "# creates spreadsheet using each nested list as a row\n",
    "df = pd.DataFrame(data=selected_data1) # only adds non-clefts to the new file\n",
    "df.to_excel(\"comment_questions.xlsx\", index=False) # converts into excel\n",
    "\n",
    "print(\"Dictionary converted into excel...\")"
   ]
  },
  {
   "cell_type": "code",
   "execution_count": 14,
   "metadata": {},
   "outputs": [
    {
     "name": "stdout",
     "output_type": "stream",
     "text": [
      "We extracted 702 rows of questions.\n",
      "The selected rows are stored in a list of lists.\n",
      "Dictionary converted into excel...\n"
     ]
    }
   ],
   "source": [
    "# extracts the data from first file\n",
    "\n",
    "# initialises the list that will contain all selected rows\n",
    "selected_data2 = [] # everything that's not a fragment nor an interjection\n",
    "\n",
    "# iterates through the spreadsheet to extract the data we need\n",
    "for rx in range(sheet2.nrows): # rx is an int, row is a list \n",
    "    row = sheet2.row(rx)\n",
    "\n",
    "    classification = row[4] # index 2 is where text of interest is stored, returns a cell\n",
    "    text_string = classification.value # converts cell into str\n",
    "\n",
    "    # initialises list that will contain our data\n",
    "    # one list is created during each iteration\n",
    "    data_list2 = []\n",
    "\n",
    "    # creates list that stores selected rows\n",
    "    if text_string != 'fragment' and text_string != 'interjection':\n",
    "        data_list2.append(row[0].value)\n",
    "        data_list2.append(row[1].value)\n",
    "        data_list2.append(row[2].value)\n",
    "        data_list2.append(row[3].value)\n",
    "        data_list2.append(row[4].value)\n",
    "        data_list2.append(row[5].value)\n",
    "        data_list2.append(row[6].value)\n",
    "        data_list2.append(row[7].value)\n",
    "        data_list2.append(row[8].value)\n",
    "        data_list2.append(row[9].value)\n",
    "\n",
    "        selected_data2.append(data_list2)\n",
    "    \n",
    "# prints extracted rows\n",
    "print(f'We extracted {len(selected_data2)} rows of questions.')\n",
    "print(f'The selected rows are stored in a list of lists.')\n",
    "\n",
    "# creates spreadsheet using each nested list as a row\n",
    "df = pd.DataFrame(data=selected_data2) # only adds non-clefts to the new file\n",
    "df.to_excel(\"ESLO1_quoi_questions.xlsx\", index=False) # converts into excel\n",
    "\n",
    "print(\"Dictionary converted into excel...\")"
   ]
  },
  {
   "cell_type": "code",
   "execution_count": 15,
   "metadata": {},
   "outputs": [
    {
     "name": "stdout",
     "output_type": "stream",
     "text": [
      "We extracted 815 rows of questions.\n",
      "The selected rows are stored in a list of lists.\n",
      "Dictionary converted into excel...\n"
     ]
    }
   ],
   "source": [
    "# extracts the data from first file\n",
    "\n",
    "# initialises the list that will contain all selected rows\n",
    "selected_data3 = [] # everything that's not a fragment nor an interjection\n",
    "\n",
    "# iterates through the spreadsheet to extract the data we need\n",
    "for rx in range(sheet3.nrows): # rx is an int, row is a list \n",
    "    row = sheet3.row(rx)\n",
    "\n",
    "    classification = row[4] # index 2 is where text of interest is stored, returns a cell\n",
    "    text_string = classification.value # converts cell into str\n",
    "\n",
    "    # initialises list that will contain our data\n",
    "    # one list is created during each iteration\n",
    "    data_list3 = []\n",
    "\n",
    "    # creates list that stores selected rows\n",
    "    if text_string != 'fragment' and text_string != 'interjection':\n",
    "        data_list3.append(row[0].value)\n",
    "        data_list3.append(row[1].value)\n",
    "        data_list3.append(row[2].value)\n",
    "        data_list3.append(row[3].value)\n",
    "        data_list3.append(row[4].value)\n",
    "        data_list3.append(row[5].value)\n",
    "        data_list3.append(row[6].value)\n",
    "        data_list3.append(row[7].value)\n",
    "        data_list3.append(row[8].value)\n",
    "        data_list3.append(row[9].value)\n",
    "\n",
    "        selected_data3.append(data_list3)\n",
    "    \n",
    "# prints extracted rows\n",
    "print(f'We extracted {len(selected_data3)} rows of questions.')\n",
    "print(f'The selected rows are stored in a list of lists.')\n",
    "\n",
    "# creates spreadsheet using each nested list as a row\n",
    "df = pd.DataFrame(data=selected_data3) # only adds non-clefts to the new file\n",
    "df.to_excel(\"ESLO2_quoi_questions.xlsx\", index=False) # converts into excel\n",
    "\n",
    "print(\"Dictionary converted into excel...\")"
   ]
  },
  {
   "cell_type": "code",
   "execution_count": 8,
   "metadata": {},
   "outputs": [
    {
     "name": "stdout",
     "output_type": "stream",
     "text": [
      "We extracted 705 rows of questions.\n",
      "The selected rows are stored in a list of lists.\n",
      "Dictionary converted into excel...\n"
     ]
    }
   ],
   "source": [
    "# extracts the data from first file\n",
    "\n",
    "# initialises the list that will contain all selected rows\n",
    "selected_data4 = [] # everything that's not a fragment nor an interjection\n",
    "\n",
    "# iterates through the spreadsheet to extract the data we need\n",
    "for rx in range(sheet4.nrows): # rx is an int, row is a list \n",
    "    row = sheet4.row(rx)\n",
    "\n",
    "    classification = row[4] # index 2 is where text of interest is stored, returns a cell\n",
    "    text_string = classification.value # converts cell into str\n",
    "\n",
    "    # initialises list that will contain our data\n",
    "    # one list is created during each iteration\n",
    "    data_list4 = []\n",
    "\n",
    "    # creates list that stores selected rows\n",
    "    if text_string != 'fragment' and text_string != 'interjection':\n",
    "        data_list4.append(row[0].value)\n",
    "        data_list4.append(row[1].value)\n",
    "        data_list4.append(row[2].value)\n",
    "        data_list4.append(row[3].value)\n",
    "        data_list4.append(row[4].value)\n",
    "        data_list4.append(row[5].value)\n",
    "        data_list4.append(row[6].value)\n",
    "        data_list4.append(row[7].value)\n",
    "        data_list4.append(row[8].value)\n",
    "        data_list4.append(row[9].value)\n",
    "\n",
    "        selected_data4.append(data_list4)\n",
    "    \n",
    "# prints extracted rows\n",
    "print(f'We extracted {len(selected_data4)} rows of questions.')\n",
    "print(f'The selected rows are stored in a list of lists.')\n",
    "\n",
    "# creates spreadsheet using each nested list as a row\n",
    "df = pd.DataFrame(data=selected_data4) # only adds non-clefts to the new file\n",
    "df.to_excel(\"qui_questions.xlsx\", index=False) # converts into excel\n",
    "\n",
    "print(\"Dictionary converted into excel...\")"
   ]
  }
 ],
 "metadata": {
  "interpreter": {
   "hash": "e166b18db0aadbab4322c18013f324f24dabe01ad5a5651d6f38a0e095ae60e7"
  },
  "kernelspec": {
   "display_name": "Python 3.10.6 ('web-scraping')",
   "language": "python",
   "name": "python3"
  },
  "language_info": {
   "codemirror_mode": {
    "name": "ipython",
    "version": 3
   },
   "file_extension": ".py",
   "mimetype": "text/x-python",
   "name": "python",
   "nbconvert_exporter": "python",
   "pygments_lexer": "ipython3",
   "version": "3.10.6"
  },
  "orig_nbformat": 4
 },
 "nbformat": 4,
 "nbformat_minor": 2
}
